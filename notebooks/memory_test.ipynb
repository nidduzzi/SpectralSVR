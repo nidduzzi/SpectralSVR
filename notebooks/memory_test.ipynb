{
 "cells": [
  {
   "cell_type": "code",
   "execution_count": 1,
   "metadata": {},
   "outputs": [],
   "source": [
    "import torch\n",
    "from skripsi_program.model import SpectralLSSVR\n",
    "from skripsi_program.basis import FourierBasis\n",
    "from skripsi_program.utils.fourier import to_real_coeff, to_complex_coeff\n",
    "from torch.utils.data.dataset import TensorDataset\n",
    "from torch.utils.data import random_split"
   ]
  },
  {
   "cell_type": "code",
   "execution_count": 2,
   "metadata": {},
   "outputs": [],
   "source": [
    "import logging\n",
    "torch._logging.set_logs(dynamo=logging.FATAL, graph_code=True)"
   ]
  },
  {
   "cell_type": "code",
   "execution_count": 3,
   "metadata": {},
   "outputs": [],
   "source": [
    "generator = torch.Generator().manual_seed(42)\n",
    "# Generate functions/data\n",
    "# spectral density function\n",
    "\n",
    "# Compute coefficients for both\n",
    "n_coeffs = 2000\n",
    "modes = 7\n",
    "u_coeff_fourier = (\n",
    "    FourierBasis.generateCoeff(n_coeffs, modes, generator=generator)\n",
    "    * 1\n",
    "    / (n_coeffs**0.5)\n",
    ")\n",
    "# ).to(dtype=torch.complex32)\n",
    "# derivative\n",
    "k = FourierBasis.waveNumber(modes)\n",
    "f_coeff_fourier = u_coeff_fourier * 2j * torch.pi * k.T\n",
    "# f_coeff_ls https://jsteinhardt.stat.berkeley.edu/blog/least-squares-and-fourier-analysis\n",
    "# u_coeff_ls\n",
    "# print(k)\n",
    "# print(u_coeff_fourier[0, :])\n",
    "# print(f_coeff_fourier[0, :])\n",
    "\n",
    "# Interpolate f & u\n",
    "# step = 0.01\n",
    "step = 0.0001\n",
    "t = torch.arange(0, 1, step)\n",
    "f_basis = FourierBasis(f_coeff_fourier)\n",
    "f = f_basis.evaluate(t)\n",
    "f = f.real\n",
    "\n",
    "s = torch.arange(-1, 1, step)\n",
    "u_basis = FourierBasis(u_coeff_fourier)\n",
    "u = u_basis.evaluate(s)\n",
    "u = u.real\n",
    "\n",
    "# Add noise\n"
   ]
  },
  {
   "cell_type": "code",
   "execution_count": 4,
   "metadata": {},
   "outputs": [],
   "source": [
    "# Train-test split\n",
    "df = TensorDataset(f, u, u_coeff_fourier)\n",
    "# df = torch.utils.data.dataset.TensorDataset(f_coeff_fourier, u, u_coeff_fourier)\n",
    "df_train, df_test = random_split(df, (0.8, 0.2), generator=generator)\n"
   ]
  },
  {
   "cell_type": "code",
   "execution_count": 5,
   "metadata": {},
   "outputs": [],
   "source": [
    "\n",
    "# Train svm\n",
    "model = SpectralLSSVR(FourierBasis(), 1.0, 1.0)\n",
    "\n",
    "f_train, u_train, u_coeff_train = df_train[:]\n",
    "model.train(\n",
    "    f_train.flatten(1), u_coeff_train.flatten(1), list(u_coeff_train.shape[1:])\n",
    ")\n"
   ]
  },
  {
   "cell_type": "code",
   "execution_count": null,
   "metadata": {},
   "outputs": [],
   "source": [
    "# Test\n",
    "# model.test(df_test)\n",
    "f_test, u_test, u_coeff_test = df_test[:]\n",
    "assert len(f_test.shape) == 2, \"f_test is more than 2 dimensional\"\n",
    "if torch.is_complex(f_test):\n",
    "    f_test = to_real_coeff(f_test)\n",
    "u_coeff_pred = model.lssvr.predict(f_test)\n",
    "u_coeff_pred = to_complex_coeff(u_coeff_pred)\n",
    "mse = torch.norm(u_coeff_pred - u_coeff_test, 2) / u_coeff_test.shape[0]\n",
    "\n",
    "assert torch.isclose(\n",
    "    torch.tensor(0.0), mse, atol=1e-2\n",
    "), f\"coefficient evaluation mse too high ({mse})\"\n",
    "\n",
    "indices = torch.randint(0, u_test.shape[1] - 1, (f_test.shape[0],))\n",
    "s_sampled = s[indices, None]\n",
    "u_sampled = u_test[torch.arange(len(indices)), indices]\n",
    "u_pred = model.forward(f_test, s_sampled)\n",
    "# calculate mse\n",
    "mse = torch.norm(u_pred.ravel() - u_sampled.ravel(), 2) / len(u_pred.ravel())\n",
    "assert torch.isclose(\n",
    "    torch.tensor(0.0), mse, atol=1e-2\n",
    "), f\"prediction evaluation mse too high ({mse})\""
   ]
  },
  {
   "cell_type": "code",
   "execution_count": null,
   "metadata": {},
   "outputs": [],
   "source": []
  }
 ],
 "metadata": {
  "kernelspec": {
   "display_name": "skripsi-program-7DNU0s2h-py3.10",
   "language": "python",
   "name": "python3"
  },
  "language_info": {
   "codemirror_mode": {
    "name": "ipython",
    "version": 3
   },
   "file_extension": ".py",
   "mimetype": "text/x-python",
   "name": "python",
   "nbconvert_exporter": "python",
   "pygments_lexer": "ipython3",
   "version": "3.10.6"
  }
 },
 "nbformat": 4,
 "nbformat_minor": 2
}
